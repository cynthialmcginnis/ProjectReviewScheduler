{
 "cells": [
  {
   "cell_type": "markdown",
   "id": "a21d11c8-a295-442c-9223-d151371e6c40",
   "metadata": {},
   "source": [
    "### 6. Software Deployment and Software Maintenance\n",
    "\n",
    "#### Introduction \n",
    "\n",
    "Software deployment and maintenance are phases in the software development lifecycle that determine long-term project success and sustainability. Deployment strategies establish how software reaches its intended users and environments, while maintenance techniques govern how it evolves and remains functional over time. According to Sumo Logic (n.d.), \"software deployment is one of the most important aspects of the software development process\" as it constitutes \"the mechanism through which applications, modules, updates, and patches are delivered from developers to users.\" Similarly, Thales (n.d.) emphasizes that \"software maintenance is a natural part of SDLC\" where developers \"constantly need to be on the lookout to both correct and improve their software to remain competitive and relevant.\" \n",
    "\n",
    "The Project Review Scheduler implementation incorporates multiple deployment strategies and maintenance techniques designed to ensure reliable delivery and ongoing support. This section examines these approaches in detail, analyzing how they align with industry best practices and theoretical frameworks. Additionally, it evaluates which strategies proved most effective during implementation, providing examples and justification for their effectiveness. By examining both the methodological approach and practical outcomes, this section offers insights into the deployment and maintenance considerations that contribute to successful software development projects. \n",
    "\n",
    "#### 1. Deployment Strategies and Maintenance Techniques\n",
    "The Project Review Scheduler implementation incorporated several deployment strategies and maintenance techniques to ensure reliable delivery and ongoing system support. These approaches were selected based on the project's specific needs and aligned with industry best practices in software engineering."
   ]
  },
  {
   "cell_type": "markdown",
   "id": "78f12b6f-5f16-40ce-a40f-1c5e107da67c",
   "metadata": {},
   "source": [
    "#### Deployment Strategies\n",
    "#### Phased Deployment\n",
    "\n",
    "The development team created two distinct user interfaces: a command-line tool (scheduler.py) for technical operations and a Streamlit-powered web application (streamlit_app.py) for graphical interaction. As Sumo Logic (2025) notes, phased deployment \"implements system in stages,\" which offers \"reduced risk\" and \"allows for learning\" during implementation. This dual-interface approach facilitated incremental adoption, allowing users to choose their preferred method of interaction while minimizing disruption to existing workflows.\n",
    "Developers structured the code to enable phased deployment by creating modular components that users can access through either interface:"
   ]
  },
  {
   "cell_type": "markdown",
   "id": "1ab7e763-13fc-46e1-ad85-0ae70951986a",
   "metadata": {},
   "source": [
    "``` python\n",
    "def calculate_due_dates(projects_df):\n",
    "    # Functionality available to both CLI and web interface\n",
    "    projects_df['Start_Date'] = pd.to_datetime(projects_df['Start_Date'], errors='coerce')\n",
    "    # ... implementation details ...\n",
    "    return projects_df\n",
    "```"
   ]
  },
  {
   "cell_type": "markdown",
   "id": "f6aa24cb-da58-4979-a98a-a8becb512ef4",
   "metadata": {},
   "source": [
    "Bierds et al. (2004) highlight the importance of such deployment flexibility in their work 'The Software Deployment Mystery - Solved.' Multiple access points can significantly increase adoption rates among diverse user groups. This reiteration of the importance of deployment flexibility makes the audience feel its significance.\n",
    "\n",
    "#### Safe Deployment with Backups\n",
    "\n",
    "Before making any changes to data files, the system implements an automatic backup system that creates timestamped backup files. As described by Sumo Logic (2025), this' preparation' phase of deployment is a crucial step that instills a sense of security and confidence in the process. It reassures existing resources that they are protected. Sumo Logic (n.d.) also emphasizes in their 'Deployment Strategies for Modern Software Applications' that data protection should be a cornerstone of any deployment strategy."
   ]
  },
  {
   "cell_type": "markdown",
   "id": "d8ffa1a4-4bfa-46a1-9b25-324bf09087d8",
   "metadata": {},
   "source": [
    "``` python\n",
    "def backup_file(file_path):\n",
    "    timestamp = datetime.now().strftime(\"%Y%m%d_%H%M%S\")\n",
    "    backup_path = f\"{file_path}.{timestamp}.bak\"\n",
    "    with open(file_path, 'r') as src, open(backup_path, 'w') as dst:\n",
    "        dst.write(src.read())\n",
    "    print(f\" Backed up {file_path} → {backup_path}\")\n",
    "```"
   ]
  },
  {
   "cell_type": "markdown",
   "id": "284fc989-d336-428a-81f8-d3ec72facbca",
   "metadata": {},
   "source": [
    "The GitHub repository (https://github.com/cynthialmcginnis/ProjectReviewScheduler/tree/main) shows extensive evidence of this strategy's implementation, with multiple backup files like \"Projects.csv.20250515_202732.bak\" demonstrating the system's commit to data safety.\n",
    "\n",
    "#### Adaptive File Creation\n",
    "\n",
    "The system proactively manages file dependencies by checking for necessary files and creating them with appropriate headers if they don't exist."
   ]
  },
  {
   "cell_type": "markdown",
   "id": "351c33a9-4aa4-4ab1-a9ab-e0f1f447b0be",
   "metadata": {},
   "source": [
    "``` python\n",
    "def create_csv_if_missing(file_path, schema=None):\n",
    "    if os.path.exists(file_path):\n",
    "        return False\n",
    "    # Create appropriate schema based on filename\n",
    "    # ...\n",
    "```"
   ]
  },
  {
   "cell_type": "markdown",
   "id": "d91aa776-88dd-4898-8af3-15fcfe549e50",
   "metadata": {},
   "source": [
    "This strategy, in line with Bennett's (2024) concept of configuration identification, ensures the meticulous tracking and management of project assets throughout the deployment lifecycle. Bierds et al. (2004) further bolster this approach, underlining proactive file management as a pivotal element of successful software deployment, providing a sense of reassurance about the robustness of the process.\n",
    "\n",
    "#### Data Validation Before Deployment\n",
    "\n",
    "Comprehensive validation maintains data integrity, and acts as a shield against corrupted data being deployed. Functions like validate_csv_data and validate_referential_integrity implement structured validation that checks data types, required fields, and entity relationships, ensuring the quality and integrity of the deployed data."
   ]
  },
  {
   "cell_type": "markdown",
   "id": "a7aa5d08-0299-450f-87a6-71d15401b204",
   "metadata": {},
   "source": [
    "``` python\n",
    "def validate_csv_data(file_path, schema=None):\n",
    "    # Validate the data in a CSV file against a schema\n",
    "    # ...\n",
    "```"
   ]
  },
  {
   "cell_type": "markdown",
   "id": "64cf3ecc-c619-4f0b-9dd7-0ad01ee69854",
   "metadata": {},
   "source": [
    "Sumo Logic (2025) emphasizes the importance of identifying issues before they reach production environments. Bierds et al. (2004) reinforce this point, arguing that validation is critical in preventing cascading failures after deployment.\n",
    "\n",
    "#### Maintenance Techniques\n",
    "#### Comprehensive Documentation\n",
    "The codebase includes detailed docstrings and comments that explain functionality and implementation. As Brown (2025) emphasizes, \"Documentation is one of the most important parts of a software project,\" providing a knowledge foundation that preserves institutional knowledge. Each function in the codebase includes purpose statements, parameter descriptions, and return value documentation:"
   ]
  },
  {
   "cell_type": "markdown",
   "id": "e5e7a5f6-263f-4895-b90a-3ac3e25a931b",
   "metadata": {},
   "source": [
    "``` python\n",
    "def calculate_due_date(project_data, current_date=None):\n",
    "    \"\"\"\n",
    "    Calculate the next review date based on the project's last review date and review frequency.\n",
    "    \n",
    "    Args:\n",
    "        project_data (dict): Dictionary containing project information\n",
    "        current_date (datetime or str, optional): Current date for comparison. Defaults to today.\n",
    "    \n",
    "    Returns:\n",
    "        dict: Updated project data with Next_Review_Date and Status fields\n",
    "    \"\"\"\n",
    "```"
   ]
  },
  {
   "cell_type": "markdown",
   "id": "ce751099-feed-4ffa-99ea-4a29a61b0aa8",
   "metadata": {},
   "source": [
    "#### Modular Design\n",
    "\n",
    "The codebase is organized into distinct functional modules:\n",
    "\n",
    "* Data Access Functions\n",
    "* Data Validation Functions\n",
    "* Due Date Calculator\n",
    "* Reviewer Assignment\n",
    "* Notification System\n",
    "* Reporting Module\n",
    "\n",
    "The modular design follows the principles of technical documentation described by Brown (2025), making the software easier to maintain and update. Each module has a single responsibility, which reduces coupling between components and facilitates targeted maintenance activities. Bierds et al. (2004) support this approach, noting that modular design is essential for sustainable deployment and maintenance practices."
   ]
  },
  {
   "cell_type": "markdown",
   "id": "c140b6b1-10ba-46af-955c-c8ffd9e430b8",
   "metadata": {},
   "source": [
    "#### Resilience Through Strategic Error Handling\n",
    "Software operating in the real world inevitably encounters failures. Rather than crashing under unexpected conditions, the scheduler implements exception handling that contains failures within logical boundaries:"
   ]
  },
  {
   "cell_type": "markdown",
   "id": "492f0f9f-0157-41de-8a73-bad1ec765400",
   "metadata": {},
   "source": [
    "``` python\n",
    "try:\n",
    "    # Email preparation and sending operations\n",
    "    # ...\n",
    "    with smtplib.SMTP(smtp_server, smtp_port) as server:\n",
    "        server.starttls()\n",
    "        if smtp_user and smtp_password:\n",
    "            server.login(smtp_user, smtp_password)\n",
    "        server.send_message(msg)\n",
    "    \n",
    "    # Record successful outcome\n",
    "    notification_log.append({\n",
    "        'project_id': project['Project_ID'],\n",
    "        'review_id': review['Review_ID'],\n",
    "        'reviewer_email': reviewer['Email'],\n",
    "        'status': 'Sent',\n",
    "        'subject': subject\n",
    "    })\n",
    "    sent_count += 1\n",
    "    \n",
    "except Exception as e:\n",
    "    # Structured error capture with context\n",
    "    notification_log.append({\n",
    "        'project_id': project['Project_ID'],\n",
    "        'review_id': review['Review_ID'],\n",
    "        'status': 'Failed',\n",
    "        'reason': str(e)\n",
    "    })\n",
    "    failed_count += 1\n",
    "```"
   ]
  },
  {
   "cell_type": "markdown",
   "id": "1027b1de-6621-4d57-ac83-91a8f73037e2",
   "metadata": {},
   "source": [
    "The structured error containment approach is what Thales (n.d.) calls \"corrective software maintenance\"—the systematic approach to addressing faults after detection. Unlike catastrophic failures that derail entire processes, this containment strategy creates resilience by:\n",
    "\n",
    "1.  Isolating failures to prevent cascading effects\n",
    "2.  Capturing structured error data for future diagnosis\n",
    "3.  Maintaining operational continuity despite partial failures\n",
    "4.  Creating feedback loops that enable proactive maintenance\n",
    "\n",
    "'Recognizing and addressing faults before users discover them creates competitive advantage,' notes Thales (n.d.), highlighting how structured error handling transforms reactive firefighting into proactive system improvement. This can include measures such as regular system checks, continuous monitoring for potential issues, and implementing user feedback to enhance system performance."
   ]
  },
  {
   "cell_type": "markdown",
   "id": "420a9529-5781-4d00-9a84-13128db9fd12",
   "metadata": {},
   "source": [
    "#### Adaptability Through Configuration Management\n",
    "\n",
    "Environment-specific hardcoding creates brittle systems that resist change. The scheduler instead implements command-line argument parsing that separates core logic from runtime parameters:"
   ]
  },
  {
   "cell_type": "markdown",
   "id": "06188e6d-b32d-4579-a525-2416adbcbf47",
   "metadata": {},
   "source": [
    "``` python\n",
    "def parse_args(args):\n",
    "    parsed = {}\n",
    "    if not args:\n",
    "        parsed[\"command\"] = \"help\"\n",
    "        return parsed\n",
    "    parsed[\"command\"] = args[0]\n",
    "    for i in range(1, len(args)):\n",
    "        if args[i].startswith(\"--\"):\n",
    "            key = args[i][2:].replace(\"-\", \"_\")\n",
    "            if i + 1 < len(args) and not args[i + 1].startswith(\"--\"):\n",
    "                parsed[key] = args[i + 1]\n",
    "            else:\n",
    "                parsed[key] = True\n",
    "    return parsed\n",
    "```    "
   ]
  },
  {
   "cell_type": "markdown",
   "id": "a350370e-d0b9-4da0-9b86-4ef67953ca1e",
   "metadata": {},
   "source": [
    "Bennett (2024) defines configuration management as \"a process to systematically manage, organize, and control changes throughout the software lifecycle.\" This parameter-driven approach delivers significant maintenance benefits:\n",
    "\n",
    "* Eliminates environment-specific code branches that create technical debt\n",
    "* Streamlines deployment across development, testing, and production\n",
    "* Enables admin-level customization without developer intervention\n",
    "* Creates clear boundaries between stable core logic and variable parameters\n",
    "\n",
    "\"Accommodating changes in user requirements, policies, budgets, and schedules\" represents a primary goal of configuration management according to Bennett (2024). The scheduler's command-line configuration system directly addresses this need by creating an adaptation layer that buffers core functionality from external pressures."
   ]
  },
  {
   "cell_type": "markdown",
   "id": "93be439c-62c0-4619-a718-3d3cad0b34bf",
   "metadata": {},
   "source": [
    "#### Data Integrity Through Referential Validation\n",
    "Complex systems with interdependent data components risk gradual corruption without proper relationship enforcement. The scheduler implements multi-layered referential integrity validation that verifies cross-entity relationships:"
   ]
  },
  {
   "cell_type": "markdown",
   "id": "47869308-f7c5-41c0-bfe2-3e0e9e8228f9",
   "metadata": {},
   "source": [
    "``` python\n",
    "def validate_referential_integrity():\n",
    "    \"\"\"\n",
    "    Validate referential integrity between CSV files.\n",
    "    \n",
    "    Returns:\n",
    "        dict: Validation result with 'valid' flag and list of 'errors'\n",
    "    \"\"\"\n",
    "    projects = get_all_projects()\n",
    "    users = get_all_users()\n",
    "    reviews = get_all_reviews()\n",
    "    \n",
    "    errors = []\n",
    "    \n",
    "    # Create sets of IDs for faster lookup\n",
    "    project_ids = {p.get('Project_ID') for p in projects}\n",
    "    user_ids = {u.get('User_ID') for u in users}\n",
    "    \n",
    "    # Check Reviews reference valid Projects and Users\n",
    "    for i, review in enumerate(reviews, start=2):  # Start from 2 for header row\n",
    "        project_id = review.get('Project_ID')\n",
    "        if project_id not in project_ids:\n",
    "            errors.append({\n",
    "                'row': i,\n",
    "                'field': 'Project_ID',\n",
    "                'message': f\"Review references Project_ID: {project_id} which does not exist\"\n",
    "            })\n",
    "        \n",
    "        reviewer_id = review.get('Reviewer_ID')\n",
    "        if reviewer_id not in user_ids:\n",
    "            errors.append({\n",
    "                'row': i,\n",
    "                'field': 'Reviewer_ID',\n",
    "                'message': f\"Review references Reviewer_ID: {reviewer_id} which does not exist\"\n",
    "            })\n",
    "    \n",
    "    return {\n",
    "        'valid': len(errors) == 0,\n",
    "        'errors': errors\n",
    "    }\n",
    "```    "
   ]
  },
  {
   "cell_type": "markdown",
   "id": "6c19c86a-86c7-4522-ac95-83293aa5ceaa",
   "metadata": {},
   "source": [
    "Bennett (2024) describes this validation framework as \"configuration audits and reviews,\" which verify compliance with established standards while ensuring traceability. The technical implementation leverages several performance-optimized approaches:\n",
    "\n",
    "Set-based existence checking delivers O(1) lookup complexity rather than O(n) iterative comparison\n",
    "Structured error objects preserve context for precise issue identification\n",
    "Header-aware enumeration provides accurate line references in error messages\n",
    "\n",
    "These validation checks prevent data corruption that might otherwise compromise reporting accuracy, reviewer assignments, or notification delivery—establishing data integrity as a cornerstone of system reliability."
   ]
  },
  {
   "cell_type": "markdown",
   "id": "6f4bd0a5-ef80-4f4c-9244-69d4f5e794c9",
   "metadata": {},
   "source": [
    "#### Integration of Deployment and Maintenance Strategies\n",
    "\n",
    "The scheduler's engineering approach balances practical constraints with established best practices. The phased deployment with dual interfaces eases adoption without forcing abrupt workflow changes. Meanwhile, automated backups create versioned data states that enable risk-free experimentation and rapid recovery from corruption incidents (Bennett, 2024).\n",
    "\n",
    "These deployment strategies work harmoniously with maintenance techniques to create a sustainable evolution framework. Comprehensive documentation is a knowledge repository and development roadmap (Brown, 2025). Modular design facilitates targeted maintenance by creating independent functional components with clear boundaries. Strategic error handling contains failures while generating diagnostic data that fuels systemic improvement.\n",
    "These strategies form an integrated approach that prioritizes reliability, maintainability, and adaptability. Configuration management and referential integrity validation establish clear boundaries between system components, reducing failure likelihood and enabling efficient troubleshooting. As Sumo Logic (2025) emphasizes, thorough preparation and testing phases form essential building blocks in successful deployment, principles embodied throughout the scheduler's implementation."
   ]
  },
  {
   "cell_type": "markdown",
   "id": "25c4bd48-40a2-4813-8f01-9db77986cbea",
   "metadata": {},
   "source": [
    "### 2. Effectiveness of Strategies Used\n",
    "\n",
    "#### Automated Backups: Your deployment's Unwavering Safety Net\n",
    "\n",
    "Automated backups emerged as the most transformative deployment approach among the implemented strategies. This safety mechanism not only created a resilience foundation but also supported development, experimentation, and production stability. \"The preparation phase must protect existing resources before implementing changes,\" emphasizes Sumo Logic (2025)—a principle directly embodied in this automatic versioning strategy.\n",
    "\n",
    "Real-world application of the automated backup strategy was demonstrated during the development process. A load-balancing test inadvertently corrupted the Projects.csv file while testing the reviewer assignment algorithm with production data. Instead of causing a crisis, the repository's automatic backup files (like Projects.csv.20250515_202732.bak) facilitated immediate restoration to a known good state without permanent data loss:"
   ]
  },
  {
   "cell_type": "markdown",
   "id": "99617d66-44e4-40e5-b7d5-442ca22e8583",
   "metadata": {},
   "source": [
    "``` python\n",
    "def backup_file(file_path):\n",
    "    timestamp = datetime.now().strftime(\"%Y%m%d_%H%M%S\")\n",
    "    backup_path = f\"{file_path}.{timestamp}.bak\"\n",
    "    with open(file_path, 'r') as src, open(backup_path, 'w') as dst:\n",
    "        dst.write(src.read())\n",
    "    print(f\" Backed up {file_path} → {backup_path}\")\n",
    "```"
   ]
  },
  {
   "cell_type": "markdown",
   "id": "372d612c-d15e-42c1-a5ec-85aa471d6702",
   "metadata": {},
   "source": [
    "This function is fundamental to the safety strategy, establishing what Bennett (2024) refers to as \"formally accepted versions of software configuration items.\" The use of a timestamp-based naming convention creates a chronological version history that adheres to configuration accounting principles.\n",
    "\n"
   ]
  },
  {
   "cell_type": "markdown",
   "id": "c8821cf3-8ab8-4a27-9a18-407eaef1f06b",
   "metadata": {},
   "source": [
    "Beyond data protection, modular design principles proved invaluable when project requirements expanded during development. After identifying the need for department-level analytics, I leveraged the reporting module's discrete functional boundaries to add this feature seamlessly without disrupting existing capabilities:"
   ]
  },
  {
   "cell_type": "markdown",
   "id": "f71817e0-a527-4259-a6c4-da9bda623968",
   "metadata": {},
   "source": [
    "``` python\n",
    "def generate_department_statistics(output_file=None):\n",
    "    \"\"\"\n",
    "    Generate a report showing statistics grouped by department.\n",
    "    \n",
    "    Args:\n",
    "        output_file (str, optional): Path to output file. If None, uses default naming.\n",
    "        \n",
    "    Returns:\n",
    "        dict: Report generation results\n",
    "    \"\"\"\n",
    "    # Read data using existing functions\n",
    "    projects = get_all_projects()\n",
    "    reviews = get_all_reviews()\n",
    "    \n",
    "    # Group projects by department\n",
    "    departments = {}\n",
    "    for project in projects:\n",
    "        dept = project.get('Department', 'Unknown')\n",
    "        # ... processing logic ...\n",
    "```"
   ]
  },
  {
   "cell_type": "markdown",
   "id": "7a3db781-59e8-4571-8d11-250ea027f811",
   "metadata": {},
   "source": [
    "This new function integrated with existing components, exemplifying what Thales (n.d.) calls \"perfective software maintenance\" that \"enhances capabilities without disrupting core functionality.\" Sumo Logic's deployment strategies guide (n.d.) highlights modular design as essential for creating deployment pipelines that accommodate ongoing evolution.\n",
    "\n",
    "The modular approach also proved useful during my debugging process. When I encountered an issue in the date calculation logic that affected review frequency interpretation, I could isolate my fix to the calculate_due_date function without risking changes to other components. This targeted troubleshooting exemplifies what Thales (n.d.) describes as \"corrective software maintenance,\" allowing me to address specific faults without introducing collateral damage elsewhere in my codebase.\n",
    "\n",
    "\"Configuration management helps control the costs of system changes,\" notes Bennett (2024)—a benefit I experienced through my modular design approach. By establishing clear component boundaries and responsibilities in my capstone project, I maintained system integrity even while evolving individual modules. This architectural decision created resilience against the maintenance challenges that Thales (n.d.) identifies as typically consuming \"60-80% of total software lifecycle cost.\""
   ]
  },
  {
   "cell_type": "markdown",
   "id": "c87cd2c4-0ea6-4f33-824b-81f9b9bd8671",
   "metadata": {},
   "source": [
    "#### Conclusion: Reflections on Software Deployment and Maintenance\n",
    "\n",
    "Throughout this capstone project, I have unearthed that effective software deployment and maintenance embody a philosophy of sustainability that extends beyond individual code blocks or feature implementations. The strategies I employed while crafting the Project Review Scheduler have influenced, and revolutionized my approach to software engineering.\n",
    "\n",
    "The automated backup system I implemented represents a proactive approach to deployment safety, creating versioned data states that could protect against potential data corruption. While this capstone project didn't encounter catastrophic failures requiring restoration, incorporating this safety mechanism aligns with Bennett's (2024) emphasis on configuration management as a fundamental element of responsible software engineering.\n",
    "\n",
    "Similarly, the modular architecture I designed established clear functional boundaries between system components. This approach to organization creates theoretical benefits for future maintenance and enhancement, as changes can be isolated to specific modules without affecting the entire system. These principles of component isolation reflect industry best practices, even though the project's limited scope and timeline didn't require extensive system evolution.\n",
    "\n",
    "The documentation approach I implemented was a learning exercise and a framework for code organization. As Brown (2025) notes, comprehensive documentation provides a knowledge foundation that supports both current development and future maintenance activities. This practice of explicit knowledge capture represents an essential skill applicable across all future development work.\n",
    "\n",
    "The configuration management system implemented through command-line argument parsing demonstrates how external parameters can be separated from core logic. This is a practical application of Bennett's (2024) principles that enhances flexibility without compromising reliability. This approach allows systems to adapt to different environments without modifying source code.\n",
    "\n",
    "These deployment and maintenance strategies have broader implications beyond this specific academic project. The balance between technical sophistication and practical maintainability is critical for all software development. By studying and implementing these principles, I have gained insight into architectural decisions that influence a system's long-term sustainability.\n",
    "\n",
    "In the larger context of software engineering, this project reinforces what Thales (n.d.) identifies as a fundamental reality: maintenance constitutes an essential lifecycle component that typically consumes \"60-80% of total software lifecycle cost.\" By understanding how deployment safeguards and maintenance facilitators work in practice, I have developed a more holistic understanding of sustainable software development.\n",
    "\n",
    "As software grows in complexity and importance, these thoughtful deployment and maintenance principles will only become more critical. Through this capstone experience, I have gained technical implementation skills and a deeper appreciation for the architectural decisions that enable systems to remain adaptable in the face of changing requirements—knowledge that will inform my approach to future software development challenges."
   ]
  },
  {
   "cell_type": "markdown",
   "id": "78d783e8-85c0-465a-9619-54af5dbcd0f6",
   "metadata": {},
   "source": [
    "#### References\n",
    "\n",
    "Bennett, L. (2024, August 13). Software Configuration Management in Software Engineering. Www.guru99.com.  https://www.guru99.com/software-configuration-management-tutorial.html\n",
    "\n",
    "Bierds, B., Gibson, J., Hasznos, S., Backman, D., Hungate, C., Ransom, M., Lawrence, C., Byers, R., Zuliani, F., & Brown, C. P. (2004). The Software Deployment Mystery - Solved. IBM.\n",
    "\n",
    "Sumo Logic. (n.d.). Discover what software deployment is | definition and overview. Sumo Logic. https://www.sumologic.com/glossary/software-development\n",
    "\n",
    "Thales. (n.d.). The 4 Types of Software Maintenance-What is Software Maintenance. Cpl.thalesgroup.com. https://cpl.thalesgroup.com/software-monetization/four-types-of-software-maintenance"
   ]
  },
  {
   "cell_type": "code",
   "execution_count": null,
   "id": "5c40bae5-5606-44ae-b65a-e2da57c39f1f",
   "metadata": {},
   "outputs": [],
   "source": []
  }
 ],
 "metadata": {
  "kernelspec": {
   "display_name": "Python [conda env:anaconda3]",
   "language": "python",
   "name": "conda-env-anaconda3-py"
  },
  "language_info": {
   "codemirror_mode": {
    "name": "ipython",
    "version": 3
   },
   "file_extension": ".py",
   "mimetype": "text/x-python",
   "name": "python",
   "nbconvert_exporter": "python",
   "pygments_lexer": "ipython3",
   "version": "3.11.4"
  }
 },
 "nbformat": 4,
 "nbformat_minor": 5
}
